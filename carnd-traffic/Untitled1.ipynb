{
 "cells": [
  {
   "cell_type": "markdown",
   "metadata": {},
   "source": [
    "# Traffic Sign Classifier \n",
    "### Udacity Project\n",
    "\n"
   ]
  },
  {
   "cell_type": "markdown",
   "metadata": {},
   "source": [
    "## German Traffic Sign set"
   ]
  },
  {
   "cell_type": "markdown",
   "metadata": {},
   "source": [
    "### Dataset Summary\n",
    "\n",
    "The Dataset provided was from German Traffic Sign Dataset which has approx. of 60,000 images. The Images were further made into Training images, validation images and test images. The images were further classified into 43 classes.\n",
    "\n",
    "### Dataset Visualization"
   ]
  },
  {
   "cell_type": "code",
   "execution_count": 2,
   "metadata": {},
   "outputs": [
    {
     "name": "stdout",
     "output_type": "stream",
     "text": [
      "Number of training examples = 34799\n",
      "Number of testing examples = 12630\n",
      "Image data shape = (32, 32, 3)\n",
      "Number of classes = 43\n"
     ]
    },
    {
     "data": {
      "text/plain": [
       "(array([  180.,  1980.,  2010.,  1260.,  1770.,  1650.,   360.,  1290.,\n",
       "         1260.,  1320.,  1800.,  1170.,  1890.,  1920.,   690.,   540.,\n",
       "          360.,   990.,  1080.,   180.,   300.,   270.,   330.,   450.,\n",
       "          240.,  1350.,   540.,   210.,   480.,   240.,   390.,   690.,\n",
       "          210.,   599.,   360.,  1080.,   330.,   180.,  1860.,   270.,\n",
       "          300.,   210.,   210.]),\n",
       " array([  0.        ,   0.97674419,   1.95348837,   2.93023256,\n",
       "          3.90697674,   4.88372093,   5.86046512,   6.8372093 ,\n",
       "          7.81395349,   8.79069767,   9.76744186,  10.74418605,\n",
       "         11.72093023,  12.69767442,  13.6744186 ,  14.65116279,\n",
       "         15.62790698,  16.60465116,  17.58139535,  18.55813953,\n",
       "         19.53488372,  20.51162791,  21.48837209,  22.46511628,\n",
       "         23.44186047,  24.41860465,  25.39534884,  26.37209302,\n",
       "         27.34883721,  28.3255814 ,  29.30232558,  30.27906977,\n",
       "         31.25581395,  32.23255814,  33.20930233,  34.18604651,\n",
       "         35.1627907 ,  36.13953488,  37.11627907,  38.09302326,\n",
       "         39.06976744,  40.04651163,  41.02325581,  42.        ]),\n",
       " <a list of 43 Patch objects>)"
      ]
     },
     "execution_count": 2,
     "metadata": {},
     "output_type": "execute_result"
    },
    {
     "data": {
      "image/png": "[encoded data removed]",
      "text/plain": [
       "<matplotlib.figure.Figure at 0x7fa0ccb0beb8>"
      ]
     },
     "metadata": {},
     "output_type": "display_data"
    }
   ],
   "source": []
  },
  {
   "cell_type": "markdown",
   "metadata": {},
   "source": [
    "### Preprocessing \n",
    "\n",
    "The various preprocesses were taken in account and finally flippinf of images and standardization of data set were chosen together to provide a large imageset of about 82,000 images than the current 39,000 images. I tried to standardize the expourse for all the images which led to a drop of a percent or two in both validation and test accuracy. Therefore, that satergy was dropped and images were directly converted into grayscale. Once again i tried converting the images value to ranges (0.1-0.9) and (-1 to 1) and found my model works better for the (0.1- 0.9) range, hence tgat range was selected for this project."
   ]
  },
  {
   "cell_type": "code",
   "execution_count": 3,
   "metadata": {},
   "outputs": [
    {
     "name": "stdout",
     "output_type": "stream",
     "text": [
      "The updated number of training examples = 81590\n"
     ]
    },
    {
     "data": {
      "image/png": "[encoded data removed]",
      "text/plain": [
       "<matplotlib.figure.Figure at 0x7fa0a4f6c358>"
      ]
     },
     "metadata": {},
     "output_type": "display_data"
    }
   ],
   "source": []
  },
  {
   "cell_type": "markdown",
   "metadata": {},
   "source": [
    "### Model Architecture\n",
    "\n",
    "I choose the LeNet model for this project. I have also taken the liberty to change few aspects of it to work better for this dataset. The Model consists of 2 Convolutional Layers and 3 fully connected layers. I have included two drop-out in between the fully connected layers to prevent overfitting of the model. I have sticked with ReLU activation as i found it work better than a tanh activation. Also, I have used Avg. pooling instead of a MAX pooling to make my model more efficient."
   ]
  },
  {
   "cell_type": "markdown",
   "metadata": {
    "collapsed": true
   },
   "source": [
    "\n",
    "\n",
    "\n",
    "| Layer |  Description|\n",
    "|--|--|\n",
    "| input | 32 x 32 x 1 |\n",
    "|Colvolution 1 | 1 x 1 stride valid padding output: 28 x 28 x 6 |\n",
    "|ReLU | Activation |\n",
    "|Avg Pooling | 2 x 2 stride valid padding output: 14 x 14 x 6 |\n",
    "|Colvolution 2 | 1 x 1 stride valid padding output: 10 x 10 x 16 |\n",
    "|ReLU | Activation |\n",
    "|Avg Pooling | 2 x 2 stride valid padding output: 5x 5x 16 |\n",
    "| Fully connected | truncated normal output: 120 |\n",
    "| ReLu | Activation|\n",
    "|dropout | yes |\n",
    " Fully connected | truncated normal output: 84 |\n",
    "| ReLu | Activation|\n",
    "|dropout | yes |\n",
    " Fully connected | truncated normal output: 43 |\n",
    "| logits |\toutput|\n",
    "\n",
    "\n"
   ]
  },
  {
   "cell_type": "markdown",
   "metadata": {},
   "source": [
    "### Model Training\n",
    "\n",
    "The optimizer used is Adam's Optimizer. The batch size was choosen as 150 as I wanted to keep the size in the middle rather than a something small like 64 as it will take a long time to train or large like 512 which will lead to taking small number of images for each iteration. I have kept the drop rate at 0.7 instead of standard 0.5 as i found 0.7 working faster for my imageset than a 0.5. I also wanted to keep EPOCH as minimum as possible. I found that after 20 EPOCHS the Model wasn't really learning much so i stopped it at 20 EPOCH. I have used a mean of zero and a standard deviation of 0.1 for the CNN."
   ]
  },
  {
   "cell_type": "markdown",
   "metadata": {},
   "source": [
    "### Solution Approach"
   ]
  },
  {
   "cell_type": "markdown",
   "metadata": {},
   "source": [
    "The Valdiation accuray for my final run was 96% and a test accuracy of 94%. The fianl value were varying by 0.01 to 0.005 for mutliple runs."
   ]
  },
  {
   "cell_type": "markdown",
   "metadata": {},
   "source": [
    "Training...\n",
    "EPOCH 1 ...\n",
    "Validation Accuracy = 0.838\n",
    "\n",
    "EPOCH 2 ...\n",
    "Validation Accuracy = 0.893\n",
    "\n",
    "EPOCH 3 ...\n",
    "Validation Accuracy = 0.916\n",
    "\n",
    "EPOCH 4 ...\n",
    "Validation Accuracy = 0.921\n",
    "\n",
    "EPOCH 5 ...\n",
    "Validation Accuracy = 0.932\n",
    "\n",
    "EPOCH 6 ...\n",
    "Validation Accuracy = 0.934\n",
    "\n",
    "EPOCH 7 ...\n",
    "Validation Accuracy = 0.929\n",
    "\n",
    "EPOCH 8 ...\n",
    "Validation Accuracy = 0.950\n",
    "\n",
    "EPOCH 9 ...\n",
    "Validation Accuracy = 0.941\n",
    "\n",
    "EPOCH 10 ...\n",
    "Validation Accuracy = 0.951\n",
    "\n",
    "EPOCH 11 ...\n",
    "Validation Accuracy = 0.950\n",
    "\n",
    "EPOCH 12 ...\n",
    "Validation Accuracy = 0.956\n",
    "\n",
    "EPOCH 13 ...\n",
    "Validation Accuracy = 0.954\n",
    "\n",
    "EPOCH 14 ...\n",
    "Validation Accuracy = 0.946\n",
    "\n",
    "EPOCH 15 ...\n",
    "Validation Accuracy = 0.953\n",
    "\n",
    "EPOCH 16 ...\n",
    "Validation Accuracy = 0.962\n",
    "\n",
    "EPOCH 17 ...\n",
    "Validation Accuracy = 0.954\n",
    "\n",
    "EPOCH 18 ...\n",
    "Validation Accuracy = 0.959\n",
    "\n",
    "EPOCH 19 ...\n",
    "Validation Accuracy = 0.962\n",
    "\n",
    "#####  EPOCH 20 ...\n",
    "##### Validation Accuracy = 0.961\n",
    "\n",
    "Model saved\n",
    "\n",
    "##### Test Accuracy = 0.935"
   ]
  },
  {
   "cell_type": "markdown",
   "metadata": {},
   "source": [
    "## Test Images"
   ]
  },
  {
   "cell_type": "markdown",
   "metadata": {},
   "source": [
    "### Acquiring New Images\n",
    "5 new images were taken from the internet and were changed to the desired dimension of 32*32*3 as all the images taken were of RGB type images. I have take simple straightforward images so i expect the model to predict all of the or atlest 3 of them"
   ]
  },
  {
   "cell_type": "code",
   "execution_count": 44,
   "metadata": {},
   "outputs": [
    {
     "data": {
      "image/png": "[encoded data removed]",
      "text/plain": [
       "<matplotlib.figure.Figure at 0x7fbc3c0cdbe0>"
      ]
     },
     "metadata": {},
     "output_type": "display_data"
    },
    {
     "data": {
      "image/png": "[encoded data removed]",
      "text/plain": [
       "<matplotlib.figure.Figure at 0x7fbc3c024c88>"
      ]
     },
     "metadata": {},
     "output_type": "display_data"
    },
    {
     "data": {
      "image/png": "[encoded data removed]",
      "text/plain": [
       "<matplotlib.figure.Figure at 0x7fbc2c5469b0>"
      ]
     },
     "metadata": {},
     "output_type": "display_data"
    },
    {
     "data": {
      "image/png": "[encoded data removed]",
      "text/plain": [
       "<matplotlib.figure.Figure at 0x7fbc2c51a208>"
      ]
     },
     "metadata": {},
     "output_type": "display_data"
    },
    {
     "data": {
      "image/png": "[encoded data removed]",
      "text/plain": [
       "<matplotlib.figure.Figure at 0x7fbc2c469a20>"
      ]
     },
     "metadata": {},
     "output_type": "display_data"
    }
   ],
   "source": [
    "import matplotlib.image as mpimg\n",
    "import cv2\n",
    "import matplotlib.pyplot as plt\n",
    "img = cv2.imread(\"test_images/2.png\")\n",
    "plt.imshow(img, cmap = 'gray')\n",
    "plt.xticks([]), plt.yticks([])  # to hide tick values on X and Y axis\n",
    "plt.show()\n",
    "img = cv2.imread(\"test_images/3.png\")\n",
    "plt.imshow(img, cmap = 'gray')\n",
    "plt.xticks([]), plt.yticks([])  # to hide tick values on X and Y axis\n",
    "plt.show()\n",
    "img = cv2.imread(\"test_images/4.png\")\n",
    "plt.imshow(img, cmap = 'gray')\n",
    "plt.xticks([]), plt.yticks([])  # to hide tick values on X and Y axis\n",
    "plt.show()\n",
    "img = cv2.imread(\"test_images/1.png\")\n",
    "plt.imshow(img, cmap = 'gray')\n",
    "plt.xticks([]), plt.yticks([])  # to hide tick values on X and Y axis\n",
    "plt.show()\n",
    "img = cv2.imread(\"test_images/5.png\")\n",
    "plt.imshow(img, cmap = 'gray')\n",
    "plt.xticks([]), plt.yticks([])  # to hide tick values on X and Y axis\n",
    "plt.show()"
   ]
  },
  {
   "cell_type": "markdown",
   "metadata": {},
   "source": [
    "### Performance on New Images"
   ]
  },
  {
   "cell_type": "markdown",
   "metadata": {},
   "source": [
    "The model did fairly well on the new images and had a accuray percent of 100% though it sometime dropped to 80%. This drop is mainly due to prediction of Road work as Bumpy road ahead.\n",
    "\n",
    "#### Test Accuracy = 1.000"
   ]
  },
  {
   "cell_type": "markdown",
   "metadata": {},
   "source": [
    "The images and the Prediction are as follows\n",
    "\n",
    "| Image | Prediction|\n",
    "|--|--|\n",
    "|road work ahead | road work ahead |\n",
    "|Priority road | Priority road |\n",
    "|right of way  | right of way|\n",
    "|speed limit 30 km/h| speed limit 30 km/h |\n",
    "|Left right ahead| Left right ahead|"
   ]
  },
  {
   "cell_type": "markdown",
   "metadata": {},
   "source": [
    "### Model Certainty - Softmax Probabilities"
   ]
  },
  {
   "cell_type": "markdown",
   "metadata": {},
   "source": [
    "Image 0 Probabilities [ 0.3467007   0.3384043   0.21378785  0.0500998   0.03566618] \n",
    " and clasess  [25 22 24 29 31]\n",
    "Image 1 Probabilities [  1.00000000e+00   5.57035367e-19   2.44085757e-22   8.24442476e-26\n",
    "   5.60764425e-26] \n",
    " and clasess  [12 40 15  1 11]\n",
    "Image 2 Probabilities [  9.99999881e-01   1.60143600e-07   5.94177593e-13   3.45092580e-13\n",
    "   3.24589802e-13] \n",
    " and clasess  [11 30 18 27 21]\n",
    "Image 3 Probabilities [  9.99996662e-01   2.51505799e-06   7.88111265e-07   6.72330681e-13\n",
    "   4.53978597e-13] \n",
    " and clasess  [ 1  2  5  4 15]\n",
    "Image 4 Probabilities [  9.99999881e-01   1.55201846e-07   1.61732336e-10   2.80366252e-13\n",
    "   1.72632132e-13] \n",
    " and clasess  [34 35 38 15  1]"
   ]
  },
  {
   "cell_type": "code",
   "execution_count": null,
   "metadata": {
    "collapsed": true
   },
   "outputs": [],
   "source": [
    "The probability of each prediction are\n",
    "\n",
    "| Image | Prediction|\n",
    "|--|--|\n",
    "|road work ahead | road work ahead |\n",
    "|Priority road | Priority road |\n",
    "|right of way  | right of way|\n",
    "|speed limit 30 km/h| speed limit 30 km/h |\n",
    "|Left right ahead| Left right ahead|"
   ]
  }
 ],
 "metadata": {
  "kernelspec": {
   "display_name": "Python [conda env:carnd-term1]",
   "language": "python",
   "name": "conda-env-carnd-term1-py"
  },
  "language_info": {
   "codemirror_mode": {
    "name": "ipython",
    "version": 3
   },
   "file_extension": ".py",
   "mimetype": "text/x-python",
   "name": "python",
   "nbconvert_exporter": "python",
   "pygments_lexer": "ipython3",
   "version": "3.5.2"
  },
  "widgets": {
   "state": {},
   "version": "1.1.2"
  }
 },
 "nbformat": 4,
 "nbformat_minor": 2
}
